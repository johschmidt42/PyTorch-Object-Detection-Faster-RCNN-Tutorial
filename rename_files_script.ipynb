{
 "cells": [
  {
   "cell_type": "markdown",
   "id": "6dc85661-4112-48f0-b574-037e34c06613",
   "metadata": {},
   "source": [
    "# Rename downloaded files"
   ]
  },
  {
   "cell_type": "code",
   "execution_count": null,
   "id": "6d4882fb-f088-44b5-804f-91057cf716cc",
   "metadata": {},
   "outputs": [],
   "source": [
    "# rename downloaded files\n",
    "import pathlib\n",
    "\n",
    "from pytorch_faster_rcnn_tutorial.utils import get_filenames_of_path\n",
    "\n",
    "root = pathlib.Path(\"pytorch_faster_rcnn_tutorial/data/heads\")\n",
    "\n",
    "inputs = get_filenames_of_path(root / \"input\")\n",
    "inputs.sort()\n",
    "\n",
    "\n",
    "for idx, path in enumerate(inputs):\n",
    "    old_name = path.stem\n",
    "    old_extension = path.suffix\n",
    "    dir = path.parent\n",
    "    new_name = str(idx).zfill(3) + old_extension\n",
    "    print(f\"old: {old_name + old_extension}\")\n",
    "    print(f\"new: {new_name}\")\n",
    "    path.rename(pathlib.Path(dir, new_name))"
   ]
  }
 ],
 "metadata": {
  "kernelspec": {
   "display_name": "Python 3",
   "language": "python",
   "name": "python3"
  },
  "language_info": {
   "codemirror_mode": {
    "name": "ipython",
    "version": 3
   },
   "file_extension": ".py",
   "mimetype": "text/x-python",
   "name": "python",
   "nbconvert_exporter": "python",
   "pygments_lexer": "ipython3",
   "version": "3.8.8"
  }
 },
 "nbformat": 4,
 "nbformat_minor": 5
}
