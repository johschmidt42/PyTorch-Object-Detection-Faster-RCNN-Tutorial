{
 "cells": [
  {
   "cell_type": "markdown",
   "id": "fd9df77e-b310-4b7c-9d9c-1ea9268d2758",
   "metadata": {},
   "source": [
    "## Dataset building"
   ]
  },
  {
   "cell_type": "code",
   "execution_count": null,
   "id": "7f8d6d30-0de4-4e75-a628-219a487b2301",
   "metadata": {
    "tags": []
   },
   "outputs": [],
   "source": [
    "# imports\n",
    "import pathlib\n",
    "\n",
    "import numpy as np\n",
    "from torchvision.models.detection.transform import GeneralizedRCNNTransform\n",
    "\n",
    "from pytorch_faster_rcnn_tutorial.datasets import ObjectDetectionDataSet\n",
    "from pytorch_faster_rcnn_tutorial.transformations import Clip, ComposeDouble\n",
    "from pytorch_faster_rcnn_tutorial.transformations import FunctionWrapperDouble\n",
    "from pytorch_faster_rcnn_tutorial.transformations import normalize_01\n",
    "from pytorch_faster_rcnn_tutorial.utils import get_filenames_of_path\n",
    "from pytorch_faster_rcnn_tutorial.utils import stats_dataset\n",
    "from pytorch_faster_rcnn_tutorial.visual import DatasetViewer"
   ]
  },
  {
   "cell_type": "code",
   "execution_count": null,
   "id": "9eb489c9-60fa-4678-b863-36c20867d6c5",
   "metadata": {
    "tags": []
   },
   "outputs": [],
   "source": [
    "# root directory\n",
    "root = pathlib.Path(\"pytorch_faster_rcnn_tutorial/data/heads\")"
   ]
  },
  {
   "cell_type": "code",
   "execution_count": null,
   "id": "9a669bbb-d077-4b95-9bb3-e1c726615091",
   "metadata": {
    "tags": []
   },
   "outputs": [],
   "source": [
    "# input and target files\n",
    "inputs = get_filenames_of_path(root / \"input\")\n",
    "targets = get_filenames_of_path(root / \"target\")\n",
    "\n",
    "inputs.sort()\n",
    "targets.sort()"
   ]
  },
  {
   "cell_type": "code",
   "execution_count": null,
   "id": "cd324587-2d3a-40b6-8517-caf558e6be05",
   "metadata": {
    "tags": []
   },
   "outputs": [],
   "source": [
    "# mapping\n",
    "mapping = {\n",
    "    \"head\": 1,\n",
    "}"
   ]
  },
  {
   "cell_type": "code",
   "execution_count": null,
   "id": "f100e8b9-e650-4adb-9ecc-aa1255ce607a",
   "metadata": {
    "tags": []
   },
   "outputs": [],
   "source": [
    "# transforms\n",
    "transforms = ComposeDouble(\n",
    "    [\n",
    "        Clip(),\n",
    "        # AlbumentationWrapper(albumentation=A.HorizontalFlip(p=0.5)),\n",
    "        # AlbumentationWrapper(albumentation=A.RandomScale(p=0.5, scale_limit=0.5)),\n",
    "        # AlbumentationWrapper(albumentation=A.VerticalFlip(p=0.5)),\n",
    "        FunctionWrapperDouble(np.moveaxis, source=-1, destination=0),\n",
    "        FunctionWrapperDouble(normalize_01),\n",
    "    ]\n",
    ")"
   ]
  },
  {
   "cell_type": "code",
   "execution_count": null,
   "id": "e2fb91b8-c3c1-42bb-8df6-67886f32e02a",
   "metadata": {
    "tags": []
   },
   "outputs": [],
   "source": [
    "# dataset building\n",
    "dataset = ObjectDetectionDataSet(\n",
    "    inputs=inputs,\n",
    "    targets=targets,\n",
    "    transform=transforms,\n",
    "    use_cache=False,\n",
    "    convert_to_format=None,\n",
    "    mapping=mapping,\n",
    ")"
   ]
  },
  {
   "cell_type": "code",
   "execution_count": null,
   "id": "c674873a-ece8-4fb8-a564-f5fb267c69fd",
   "metadata": {
    "tags": []
   },
   "outputs": [],
   "source": [
    "# visualize dataset\n",
    "color_mapping = {\n",
    "    1: \"red\",\n",
    "}\n",
    "\n",
    "datasetviewer = DatasetViewer(dataset, color_mapping)\n",
    "datasetviewer.napari()\n",
    "datasetviewer.gui_text_properties(datasetviewer.shape_layer)"
   ]
  },
  {
   "cell_type": "code",
   "execution_count": null,
   "id": "b1fce20d-f33b-4916-a5be-5ceead59060e",
   "metadata": {
    "tags": []
   },
   "outputs": [],
   "source": [
    "# visualize dataset with Faster-RCNN transformer\n",
    "color_mapping = {\n",
    "    1: \"red\",\n",
    "}\n",
    "\n",
    "transform = GeneralizedRCNNTransform(\n",
    "    min_size=1024,\n",
    "    max_size=1024,\n",
    "    image_mean=[0.485, 0.456, 0.406],\n",
    "    image_std=[0.229, 0.224, 0.225],\n",
    ")\n",
    "\n",
    "datasetviewer = DatasetViewer(dataset, color_mapping, rccn_transform=transform)\n",
    "datasetviewer.napari()"
   ]
  },
  {
   "cell_type": "markdown",
   "id": "0ee6f8b5-9797-49e6-b305-6a72fc964ba1",
   "metadata": {},
   "source": [
    "## Dataset statistics"
   ]
  },
  {
   "cell_type": "code",
   "execution_count": null,
   "id": "f086e511-2869-49a2-88e1-3cd45d27e37b",
   "metadata": {
    "tags": []
   },
   "outputs": [],
   "source": [
    "stats = stats_dataset(dataset)\n",
    "stats"
   ]
  },
  {
   "cell_type": "code",
   "execution_count": null,
   "id": "b4415bc8-eecf-4dff-b404-71febd6d7b7d",
   "metadata": {
    "tags": []
   },
   "outputs": [],
   "source": [
    "transform = GeneralizedRCNNTransform(\n",
    "    min_size=1024,\n",
    "    max_size=1024,\n",
    "    image_mean=[0.485, 0.456, 0.406],\n",
    "    image_std=[0.229, 0.224, 0.225],\n",
    ")\n",
    "\n",
    "stats_transform = stats_dataset(dataset, transform)\n",
    "stats_transform"
   ]
  },
  {
   "cell_type": "code",
   "execution_count": null,
   "id": "5f501052-70d4-40ac-895b-a89f09ed27e8",
   "metadata": {
    "tags": []
   },
   "outputs": [],
   "source": []
  }
 ],
 "metadata": {
  "kernelspec": {
   "display_name": "Python 3 (ipykernel)",
   "language": "python",
   "name": "python3"
  },
  "language_info": {
   "codemirror_mode": {
    "name": "ipython",
    "version": 3
   },
   "file_extension": ".py",
   "mimetype": "text/x-python",
   "name": "python",
   "nbconvert_exporter": "python",
   "pygments_lexer": "ipython3",
   "version": "3.8.12"
  }
 },
 "nbformat": 4,
 "nbformat_minor": 5
}
