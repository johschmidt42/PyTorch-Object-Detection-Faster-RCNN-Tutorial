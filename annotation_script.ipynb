{
 "cells": [
  {
   "cell_type": "markdown",
   "id": "e9555fa0-513b-450e-bd60-c0c2675d85cb",
   "metadata": {},
   "source": [
    "# Annotations"
   ]
  },
  {
   "cell_type": "code",
   "execution_count": 1,
   "id": "2323eb72-c022-48ed-b5de-4e335129130f",
   "metadata": {
    "tags": []
   },
   "outputs": [],
   "source": [
    "# imports\n",
    "import logging\n",
    "import pathlib\n",
    "import sys\n",
    "import warnings\n",
    "from typing import Dict, List\n",
    "\n",
    "import numpy as np\n",
    "from vispy.util import keys\n",
    "\n",
    "from pytorch_faster_rcnn_tutorial.annotator import Annotator\n",
    "from pytorch_faster_rcnn_tutorial.datasets import ObjectDetectionDatasetSingle\n",
    "from pytorch_faster_rcnn_tutorial.transformations import (\n",
    "    ComposeSingle,\n",
    "    FunctionWrapperSingle,\n",
    "    normalize_01,\n",
    ")\n",
    "from pytorch_faster_rcnn_tutorial.utils import get_filenames_of_path"
   ]
  },
  {
   "cell_type": "code",
   "execution_count": 2,
   "id": "57ada357-4304-4425-8549-559c45f0e21b",
   "metadata": {
    "tags": []
   },
   "outputs": [],
   "source": [
    "warnings.filterwarnings(\"ignore\")\n",
    "\n",
    "logger: logging.Logger = logging.getLogger(__name__)\n",
    "\n",
    "# logging\n",
    "logging.basicConfig(\n",
    "    level=logging.INFO,\n",
    "    format=\"%(asctime)s - %(levelname)s - %(filename)s:%(lineno)d:%(funcName)s: %(message)s\",\n",
    "    datefmt=\"%Y-%m-%d %H:%M:%S\",\n",
    "    handlers=[logging.StreamHandler(sys.stdout)],\n",
    ")"
   ]
  },
  {
   "cell_type": "code",
   "execution_count": 3,
   "id": "b7cf3f9f-d35f-4729-9912-e9d02c37c29c",
   "metadata": {
    "tags": []
   },
   "outputs": [
    {
     "name": "stdout",
     "output_type": "stream",
     "text": [
      "2023-06-08 16:18:52 - INFO - utils.py:27:get_filenames_of_path: Found 20 files in src/pytorch_faster_rcnn_tutorial/data/heads/input\n"
     ]
    }
   ],
   "source": [
    "# root directory (project directory)\n",
    "__file__ = \"dataset_exploration_script.py\"\n",
    "ROOT_PATH: pathlib.Path = pathlib.Path(__file__).parent.absolute()\n",
    "\n",
    "# data path relative to this file (pathlib)\n",
    "data_path: pathlib.Path = pathlib.Path(\"src/pytorch_faster_rcnn_tutorial/data/heads\")\n",
    "\n",
    "# input files\n",
    "inputs: List[pathlib.Path] = get_filenames_of_path(data_path / \"input\")\n",
    "\n",
    "inputs.sort()\n",
    "\n",
    "# transforms\n",
    "transforms: ComposeSingle = ComposeSingle(\n",
    "    [\n",
    "        FunctionWrapperSingle(np.moveaxis, source=-1, destination=0),\n",
    "        FunctionWrapperSingle(normalize_01),\n",
    "    ]\n",
    ")\n",
    "\n",
    "# dataset building\n",
    "dataset: ObjectDetectionDatasetSingle = ObjectDetectionDatasetSingle(\n",
    "    inputs=inputs,\n",
    "    transform=transforms,\n",
    "    use_cache=False,\n",
    ")\n",
    "\n",
    "# visualize dataset\n",
    "color_mapping: Dict[int, str] = {\n",
    "    1: \"red\",\n",
    "}"
   ]
  },
  {
   "cell_type": "code",
   "execution_count": 4,
   "id": "5684aa5e-a3e5-4ea9-8c70-3c350f68b6cf",
   "metadata": {
    "tags": []
   },
   "outputs": [],
   "source": [
    "annotator: Annotator = Annotator(dataset=dataset)"
   ]
  },
  {
   "cell_type": "markdown",
   "id": "e26ca027-b58e-4896-8da6-d0f1cc2f5254",
   "metadata": {},
   "source": [
    "## Add labels"
   ]
  },
  {
   "cell_type": "code",
   "execution_count": 5,
   "id": "5a3e394e-d49e-45b6-b854-acb8b908a26c",
   "metadata": {
    "tags": []
   },
   "outputs": [
    {
     "name": "stdout",
     "output_type": "stream",
     "text": [
      "2023-06-08 16:18:59 - INFO - annotator.py:73:get_data: Input sample: 001.jpg\n",
      "Shape: torch.Size([3, 710, 1024])\n",
      "2023-06-08 16:19:06 - INFO - annotator.py:73:get_data: Input sample: 002.jpg\n",
      "Shape: torch.Size([3, 440, 660])\n",
      "2023-06-08 16:19:06 - INFO - annotator.py:73:get_data: Input sample: 001.jpg\n",
      "Shape: torch.Size([3, 710, 1024])\n"
     ]
    }
   ],
   "source": [
    "annotator.add_class(label=\"head\", color=\"red\")  # head\n",
    "annotator.add_class(label=\"eye\", color=\"blue\")  # eye"
   ]
  },
  {
   "cell_type": "code",
   "execution_count": null,
   "id": "2d2b0c90",
   "metadata": {},
   "outputs": [],
   "source": [
    "## press 'n' or 'b' to see images"
   ]
  },
  {
   "cell_type": "markdown",
   "id": "870fb05a-03d4-4ebb-8bf4-c4c5e0109221",
   "metadata": {},
   "source": [
    "## Save all available annotations in one go"
   ]
  },
  {
   "cell_type": "code",
   "execution_count": 7,
   "id": "286f7083-6715-4ebc-80ac-aa515dd09bd2",
   "metadata": {
    "tags": []
   },
   "outputs": [
    {
     "name": "stdout",
     "output_type": "stream",
     "text": [
      "2023-06-08 16:19:33 - INFO - annotator.py:186:export: Annotation 001.json saved to /Users/johannes/learnspace/PyTorch-Object-Detection-Faster-RCNN-Tutorial/exported_images\n",
      "2023-06-08 16:19:33 - INFO - annotator.py:186:export: Annotation 002.json saved to /Users/johannes/learnspace/PyTorch-Object-Detection-Faster-RCNN-Tutorial/exported_images\n"
     ]
    }
   ],
   "source": [
    "import os\n",
    "\n",
    "save_dir = pathlib.Path(os.getcwd()) / \"exported_images\"\n",
    "save_dir.mkdir(parents=True, exist_ok=True)\n",
    "annotator.export(pathlib.Path(save_dir))"
   ]
  }
 ],
 "metadata": {
  "kernelspec": {
   "display_name": "Python 3 (ipykernel)",
   "language": "python",
   "name": "python3"
  },
  "language_info": {
   "codemirror_mode": {
    "name": "ipython",
    "version": 3
   },
   "file_extension": ".py",
   "mimetype": "text/x-python",
   "name": "python",
   "nbconvert_exporter": "python",
   "pygments_lexer": "ipython3",
   "version": "3.10.12"
  }
 },
 "nbformat": 4,
 "nbformat_minor": 5
}
